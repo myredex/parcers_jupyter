{
 "cells": [
  {
   "cell_type": "code",
   "execution_count": 62,
   "id": "cd07c852-7176-40aa-b8a5-fc499f759343",
   "metadata": {},
   "outputs": [],
   "source": [
    "#!pip install selenium\n",
    "#!pip install cloudscraper"
   ]
  },
  {
   "cell_type": "code",
   "execution_count": 21,
   "id": "a0065716-67af-4321-962b-9b5b563f78c2",
   "metadata": {},
   "outputs": [],
   "source": [
    "from selenium import webdriver\n",
    "import cloudscraper\n",
    "import pandas as pd\n",
    "import requests\n",
    "import time\n",
    "from tqdm.notebook import tqdm\n",
    "from selenium.webdriver.chrome.service import Service\n",
    "from selenium.webdriver.chrome.options import Options\n",
    "from selenium.webdriver.common.by import By\n",
    "from selenium.webdriver.common.keys import Keys"
   ]
  },
  {
   "cell_type": "code",
   "execution_count": 2,
   "id": "65612107-d091-4ca2-9ab4-60eb9da0a909",
   "metadata": {},
   "outputs": [
    {
     "data": {
      "text/plain": [
       "{'identifier': '2'}"
      ]
     },
     "execution_count": 2,
     "metadata": {},
     "output_type": "execute_result"
    }
   ],
   "source": [
    "chrome_options = Options()\n",
    "chrome_options.add_argument(\"--disable-blink-features=AutomationControlled\")\n",
    "chrome_options.add_experimental_option(\"excludeSwitches\", [\"enable-automation\"])\n",
    "chrome_options.add_experimental_option(\"useAutomationExtension\", False)\n",
    "\n",
    "driver = webdriver.Chrome(options=chrome_options)\n",
    "\n",
    "driver.execute_cdp_cmd(\"Page.addScriptToEvaluateOnNewDocument\", {\n",
    "'source': '''\n",
    "delete window.cdc_adoQpoasnfa76pfcZLmcfl_Array;\n",
    "delete window.cdc_adoQpoasnfa76pfcZLmcfl_Promise;\n",
    "delete window.cdc_adoQpoasnfa76pfcZLmcfl_Symbol;\n",
    "delete window.cdc_adoQpoasnfa76pfcZLmcfl_Object;\n",
    "delete window.cdc_adoQpoasnfa76pfcZLmcfl_Proxy;\n",
    "'''})"
   ]
  },
  {
   "cell_type": "code",
   "execution_count": 5,
   "id": "86968b65-b2de-4fb5-a3c8-1e21b3e715ba",
   "metadata": {},
   "outputs": [],
   "source": [
    "base_url = 'https://universal.bertazzoni.com/'\n",
    "\n",
    "cats = ['https://universal.bertazzoni.com/products/cookers',\n",
    "        'https://universal.bertazzoni.com/products/built-in-ovens',\n",
    "        'https://universal.bertazzoni.com/products/compact-ovens',\n",
    "        'https://universal.bertazzoni.com/products/hobs',\n",
    "        'https://universal.bertazzoni.com/products/refrigerators',\n",
    "        'https://universal.bertazzoni.com/products/ventilation',\n",
    "        'https://universal.bertazzoni.com/products/dishwashers',\n",
    "        'https://universal.bertazzoni.com/collezione-metalli',\n",
    "        'https://universal.bertazzoni.com/products/accessories'\n",
    "       ]"
   ]
  },
  {
   "cell_type": "code",
   "execution_count": 23,
   "id": "50d132ca-562f-41df-8191-d175f18661e5",
   "metadata": {},
   "outputs": [
    {
     "data": {
      "application/vnd.jupyter.widget-view+json": {
       "model_id": "fca7e843483343da98b5937666155819",
       "version_major": 2,
       "version_minor": 0
      },
      "text/plain": [
       "0it [00:00, ?it/s]"
      ]
     },
     "metadata": {},
     "output_type": "display_data"
    },
    {
     "data": {
      "application/vnd.jupyter.widget-view+json": {
       "model_id": "a6ad175a7d3b4fe283aa2302473a3cae",
       "version_major": 2,
       "version_minor": 0
      },
      "text/plain": [
       "0it [00:00, ?it/s]"
      ]
     },
     "metadata": {},
     "output_type": "display_data"
    },
    {
     "data": {
      "application/vnd.jupyter.widget-view+json": {
       "model_id": "d6967dc7042a4ab580098675b5a375ae",
       "version_major": 2,
       "version_minor": 0
      },
      "text/plain": [
       "0it [00:00, ?it/s]"
      ]
     },
     "metadata": {},
     "output_type": "display_data"
    },
    {
     "data": {
      "application/vnd.jupyter.widget-view+json": {
       "model_id": "a420d3bf31e94f4d855c9ddf8e863d42",
       "version_major": 2,
       "version_minor": 0
      },
      "text/plain": [
       "0it [00:00, ?it/s]"
      ]
     },
     "metadata": {},
     "output_type": "display_data"
    },
    {
     "data": {
      "application/vnd.jupyter.widget-view+json": {
       "model_id": "a243009244f1479b922aa0867c63c694",
       "version_major": 2,
       "version_minor": 0
      },
      "text/plain": [
       "0it [00:00, ?it/s]"
      ]
     },
     "metadata": {},
     "output_type": "display_data"
    },
    {
     "data": {
      "application/vnd.jupyter.widget-view+json": {
       "model_id": "643185c127694be0a03fa4a74b0e0392",
       "version_major": 2,
       "version_minor": 0
      },
      "text/plain": [
       "0it [00:00, ?it/s]"
      ]
     },
     "metadata": {},
     "output_type": "display_data"
    },
    {
     "data": {
      "application/vnd.jupyter.widget-view+json": {
       "model_id": "a444ca0c836c47c4894b24f5b740323b",
       "version_major": 2,
       "version_minor": 0
      },
      "text/plain": [
       "0it [00:00, ?it/s]"
      ]
     },
     "metadata": {},
     "output_type": "display_data"
    },
    {
     "data": {
      "application/vnd.jupyter.widget-view+json": {
       "model_id": "058c2596d2af4be085e49410c2e8d164",
       "version_major": 2,
       "version_minor": 0
      },
      "text/plain": [
       "0it [00:00, ?it/s]"
      ]
     },
     "metadata": {},
     "output_type": "display_data"
    },
    {
     "data": {
      "application/vnd.jupyter.widget-view+json": {
       "model_id": "b72590ed997c4296b773d9e94d36c7a1",
       "version_major": 2,
       "version_minor": 0
      },
      "text/plain": [
       "0it [00:00, ?it/s]"
      ]
     },
     "metadata": {},
     "output_type": "display_data"
    },
    {
     "data": {
      "application/vnd.jupyter.widget-view+json": {
       "model_id": "40f18a1ef5d042f59e08c2926a20da70",
       "version_major": 2,
       "version_minor": 0
      },
      "text/plain": [
       "0it [00:00, ?it/s]"
      ]
     },
     "metadata": {},
     "output_type": "display_data"
    }
   ],
   "source": [
    "images = []\n",
    "categories = []\n",
    "texts = []\n",
    "\n",
    "for cat_index, category in tqdm(enumerate(cats)):\n",
    "    \n",
    "    driver.get(category)\n",
    "    \n",
    "    category_name = driver.find_element(By.TAG_NAME, 'h1').text\n",
    "\n",
    "    # Find goods \n",
    "    list_of_items = driver.find_elements(By.CLASS_NAME, \"card-linked\")\n",
    "    \n",
    "    for good_index, item in tqdm(enumerate(list_of_items)):\n",
    "        \n",
    "        product_name = item.find_element(By.CLASS_NAME, \"tit-h3\").text + \" made by Bertazzoni\"\n",
    "\n",
    "        img = item.find_element(By.TAG_NAME, \"img\").get_attribute(\"src\")\n",
    "        \n",
    "        image_name = \"bertazzoni_0000\" + str(cat_index) + \"_\" + str(good_index) + \".jpg\"\n",
    "        image_path = \"./bertazzoni_images/\" + image_name\n",
    "\n",
    "        # Download image and save to folder\n",
    "        response = requests.get(img)\n",
    "            \n",
    "        with open(image_path, \"wb\") as file:\n",
    "            file.write(response.content)            \n",
    "             \n",
    "        categories.append(category_name)\n",
    "        texts.append(product_name)\n",
    "        images.append(image_name)\n",
    "        \n",
    "            \n",
    "    time.sleep(2)\n",
    "    \n",
    "dataframe = pd.DataFrame({'category':categories, \n",
    "                          'text':texts, \n",
    "                          'image_name':images})"
   ]
  },
  {
   "cell_type": "code",
   "execution_count": 24,
   "id": "93f77cc0-dec6-4502-9030-40c004d3b0aa",
   "metadata": {},
   "outputs": [],
   "source": [
    "dataframe.to_csv(\"bertazzoni.csv\", index=False)"
   ]
  },
  {
   "cell_type": "code",
   "execution_count": null,
   "id": "baba5747-9f35-4b09-9fdb-7173464afe18",
   "metadata": {},
   "outputs": [],
   "source": []
  }
 ],
 "metadata": {
  "kernelspec": {
   "display_name": "Python 3 (ipykernel)",
   "language": "python",
   "name": "python3"
  },
  "language_info": {
   "codemirror_mode": {
    "name": "ipython",
    "version": 3
   },
   "file_extension": ".py",
   "mimetype": "text/x-python",
   "name": "python",
   "nbconvert_exporter": "python",
   "pygments_lexer": "ipython3",
   "version": "3.10.9"
  }
 },
 "nbformat": 4,
 "nbformat_minor": 5
}
