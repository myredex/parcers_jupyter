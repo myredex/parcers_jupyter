{
 "cells": [
  {
   "cell_type": "code",
   "execution_count": 1,
   "id": "cd07c852-7176-40aa-b8a5-fc499f759343",
   "metadata": {},
   "outputs": [],
   "source": [
    "#!pip install selenium\n",
    "#!pip install cloudscraper"
   ]
  },
  {
   "cell_type": "code",
   "execution_count": 68,
   "id": "a0065716-67af-4321-962b-9b5b563f78c2",
   "metadata": {},
   "outputs": [],
   "source": [
    "from selenium import webdriver\n",
    "from tqdm.notebook import tqdm\n",
    "import cloudscraper\n",
    "import pandas as pd\n",
    "import requests\n",
    "import os\n",
    "from PIL import Image\n",
    "from io import BytesIO\n",
    "import time\n",
    "from selenium.webdriver.chrome.service import Service\n",
    "from selenium.webdriver.chrome.options import Options\n",
    "from selenium.webdriver.common.by import By\n",
    "from selenium.webdriver.common.keys import Keys"
   ]
  },
  {
   "cell_type": "code",
   "execution_count": 69,
   "id": "65612107-d091-4ca2-9ab4-60eb9da0a909",
   "metadata": {},
   "outputs": [
    {
     "data": {
      "text/plain": [
       "{'identifier': '2'}"
      ]
     },
     "execution_count": 69,
     "metadata": {},
     "output_type": "execute_result"
    }
   ],
   "source": [
    "chrome_options = Options()\n",
    "chrome_options.add_argument(\"--disable-blink-features=AutomationControlled\")\n",
    "chrome_options.add_experimental_option(\"excludeSwitches\", [\"enable-automation\"])\n",
    "chrome_options.add_experimental_option(\"useAutomationExtension\", False)\n",
    "\n",
    "driver = webdriver.Chrome(options=chrome_options)\n",
    "\n",
    "driver.execute_cdp_cmd(\"Page.addScriptToEvaluateOnNewDocument\", {\n",
    "'source': '''\n",
    "delete window.cdc_adoQpoasnfa76pfcZLmcfl_Array;\n",
    "delete window.cdc_adoQpoasnfa76pfcZLmcfl_Promise;\n",
    "delete window.cdc_adoQpoasnfa76pfcZLmcfl_Symbol;\n",
    "delete window.cdc_adoQpoasnfa76pfcZLmcfl_Object;\n",
    "delete window.cdc_adoQpoasnfa76pfcZLmcfl_Proxy;\n",
    "'''})"
   ]
  },
  {
   "cell_type": "code",
   "execution_count": 70,
   "id": "050df958-15e8-43bf-82ea-8e8e7c10d1f4",
   "metadata": {},
   "outputs": [
    {
     "data": {
      "text/plain": [
       "23"
      ]
     },
     "execution_count": 70,
     "metadata": {},
     "output_type": "execute_result"
    }
   ],
   "source": [
    "url = 'https://www.dawlance.com.pk/'\n",
    "driver.get(url)\n",
    "menu_links = driver.find_elements(By.CLASS_NAME, 'lv1-li')\n",
    "\n",
    "categories = []\n",
    "subcategories = []\n",
    "\n",
    "for link in menu_links:\n",
    "    categories.append(link.find_element(By.TAG_NAME, 'a').get_attribute('href'))\n",
    "    \n",
    "for cat in categories:\n",
    "    driver.get(cat)\n",
    "    subcat_ul = driver.find_element(By.CLASS_NAME, 'category-list')\n",
    "    subcat_urls = [x.get_attribute('href') for x in subcat_ul.find_elements(By.TAG_NAME, 'a')]\n",
    "    \n",
    "    subcategories.extend(subcat_urls)\n",
    "\n",
    "len(subcategories)"
   ]
  },
  {
   "cell_type": "code",
   "execution_count": 71,
   "id": "50d132ca-562f-41df-8191-d175f18661e5",
   "metadata": {},
   "outputs": [
    {
     "data": {
      "application/vnd.jupyter.widget-view+json": {
       "model_id": "a1db3aeabf4e49b1a80b59c883ac5b64",
       "version_major": 2,
       "version_minor": 0
      },
      "text/plain": [
       "0it [00:00, ?it/s]"
      ]
     },
     "metadata": {},
     "output_type": "display_data"
    }
   ],
   "source": [
    "products = []\n",
    "categories = []\n",
    "clean_image_urls = []\n",
    "image_names = []\n",
    "\n",
    "for cat_index, category in tqdm(enumerate(subcategories)):\n",
    "    \n",
    "    driver.get(category)\n",
    "    \n",
    "    category_name = driver.find_element(By.TAG_NAME, 'h1').text\n",
    "    \n",
    "    # Find item cards \n",
    "    divs_items = driver.find_elements(By.CLASS_NAME, \"product-item\")\n",
    "\n",
    "    for good_index, item_card in enumerate(divs_items):\n",
    "        \n",
    "        product_name_1 = item_card.find_element(By.CLASS_NAME, \"t\").text\n",
    "        product_name_2 = item_card.find_element(By.CLASS_NAME, \"v\").text \n",
    "        product_name = product_name_1 + \" \" + product_name_2 + \" made by Dawlance\"\n",
    "\n",
    "        images = item_card.find_elements(By.CLASS_NAME, \"lazy\")\n",
    "\n",
    "        src_sets = [x.get_attribute(\"data-srcset\") for x in images]\n",
    "        \n",
    "        if len(src_sets) > 0:\n",
    "            image_urls = src_sets[0].split(\",\")\n",
    "        else:\n",
    "            continue\n",
    "        \n",
    "        for img_index, img_url in enumerate(src_sets):\n",
    "            parts = img_url.split(\"/\")\n",
    "            original_path = \"/\".join(parts[:4]) + \"/1000Wx1000H/image.webp\"\n",
    "            image_name = \"dawlance_0000\" + str(cat_index) + \"_\" + str(good_index) + \"_\" + str(img_index) + \".png\"\n",
    "            \n",
    "            clean_image_urls.append(\"https://www.dawlance.com.pk\" + original_path)\n",
    "            products.append(product_name)\n",
    "            categories.append(category_name)\n",
    "            image_names.append(image_name)\n",
    "    time.sleep(2)"
   ]
  },
  {
   "cell_type": "code",
   "execution_count": 72,
   "id": "dbae6f1e-a3be-4f75-88f1-f439df75a1d7",
   "metadata": {},
   "outputs": [],
   "source": [
    "df = pd.DataFrame({'category':categories, \n",
    "                    'text':products, \n",
    "                    'img_urls': clean_image_urls,\n",
    "                    'image_name':image_names}) "
   ]
  },
  {
   "cell_type": "code",
   "execution_count": 74,
   "id": "1fd849f8-68f1-4e34-bb17-e066991c739f",
   "metadata": {},
   "outputs": [],
   "source": [
    "df.to_csv(\"img_urls.csv\", index=False)"
   ]
  },
  {
   "cell_type": "code",
   "execution_count": 78,
   "id": "c56eeb77-71bf-47a5-bdc6-10ac548e0983",
   "metadata": {},
   "outputs": [],
   "source": [
    "wrong_indexes = []\n",
    "\n",
    "for index, (img, image_url) in enumerate(zip(df['image_name'], df['img_urls'])):   \n",
    "    \n",
    "    image_path = \"images_dawlance/\" + img\n",
    "    \n",
    "    # Download image and save to folder\n",
    "    driver.get(image_url)\n",
    "    try:\n",
    "        image = driver.find_element(By.TAG_NAME, 'img')\n",
    "    except:\n",
    "        wrong_indexes.append(index)\n",
    "        continue\n",
    "        \n",
    "    driver.execute_script(\"arguments[0].style.backgroundColor = 'hsl(0 0% 100% / 1)';\", image)\n",
    "    driver.execute_script(\"document.body.style.backgroundColor = 'white';\")\n",
    "    time.sleep(1)\n",
    "    image.screenshot(image_path)\n",
    "    time.sleep(2)"
   ]
  },
  {
   "cell_type": "code",
   "execution_count": 79,
   "id": "b9a48a10-94da-4556-8c89-f186c2c6bcb0",
   "metadata": {},
   "outputs": [
    {
     "data": {
      "text/plain": [
       "546"
      ]
     },
     "execution_count": 79,
     "metadata": {},
     "output_type": "execute_result"
    }
   ],
   "source": [
    "image_files = set(os.listdir(\"images_dawlance\"))\n",
    "len(image_files)"
   ]
  },
  {
   "cell_type": "code",
   "execution_count": 80,
   "id": "6ca98de4-edd6-4b10-965e-fe2f894b555a",
   "metadata": {},
   "outputs": [
    {
     "data": {
      "text/plain": [
       "(545, 4)"
      ]
     },
     "execution_count": 80,
     "metadata": {},
     "output_type": "execute_result"
    }
   ],
   "source": [
    "df_filtered = df[df['image_name'].isin(image_files)]\n",
    "df_filtered.shape"
   ]
  },
  {
   "cell_type": "code",
   "execution_count": 81,
   "id": "40806790-7eba-4fc8-b51e-1602718eb3ee",
   "metadata": {},
   "outputs": [],
   "source": [
    "df_filtered[['category','text','image_name']].to_csv(\"dawlence.csv\", index=False)"
   ]
  }
 ],
 "metadata": {
  "kernelspec": {
   "display_name": "Python 3 (ipykernel)",
   "language": "python",
   "name": "python3"
  },
  "language_info": {
   "codemirror_mode": {
    "name": "ipython",
    "version": 3
   },
   "file_extension": ".py",
   "mimetype": "text/x-python",
   "name": "python",
   "nbconvert_exporter": "python",
   "pygments_lexer": "ipython3",
   "version": "3.10.9"
  }
 },
 "nbformat": 4,
 "nbformat_minor": 5
}
