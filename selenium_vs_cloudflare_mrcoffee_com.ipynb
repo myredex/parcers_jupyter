{
 "cells": [
  {
   "cell_type": "code",
   "execution_count": 62,
   "id": "cd07c852-7176-40aa-b8a5-fc499f759343",
   "metadata": {},
   "outputs": [],
   "source": [
    "#!pip install selenium\n",
    "#!pip install cloudscraper"
   ]
  },
  {
   "cell_type": "code",
   "execution_count": 185,
   "id": "a0065716-67af-4321-962b-9b5b563f78c2",
   "metadata": {},
   "outputs": [],
   "source": [
    "from selenium import webdriver\n",
    "import cloudscraper\n",
    "import pandas as pd\n",
    "import requests\n",
    "import time\n",
    "from selenium.webdriver.chrome.service import Service\n",
    "from selenium.webdriver.chrome.options import Options\n",
    "from selenium.webdriver.common.by import By\n",
    "from selenium.webdriver.common.keys import Keys"
   ]
  },
  {
   "cell_type": "code",
   "execution_count": 143,
   "id": "65612107-d091-4ca2-9ab4-60eb9da0a909",
   "metadata": {},
   "outputs": [
    {
     "data": {
      "text/plain": [
       "{'identifier': '2'}"
      ]
     },
     "execution_count": 143,
     "metadata": {},
     "output_type": "execute_result"
    }
   ],
   "source": [
    "chrome_options = Options()\n",
    "chrome_options.add_argument(\"--disable-blink-features=AutomationControlled\")\n",
    "chrome_options.add_experimental_option(\"excludeSwitches\", [\"enable-automation\"])\n",
    "chrome_options.add_experimental_option(\"useAutomationExtension\", False)\n",
    "\n",
    "driver = webdriver.Chrome(options=chrome_options)\n",
    "\n",
    "driver.execute_cdp_cmd(\"Page.addScriptToEvaluateOnNewDocument\", {\n",
    "'source': '''\n",
    "delete window.cdc_adoQpoasnfa76pfcZLmcfl_Array;\n",
    "delete window.cdc_adoQpoasnfa76pfcZLmcfl_Promise;\n",
    "delete window.cdc_adoQpoasnfa76pfcZLmcfl_Symbol;\n",
    "delete window.cdc_adoQpoasnfa76pfcZLmcfl_Object;\n",
    "delete window.cdc_adoQpoasnfa76pfcZLmcfl_Proxy;\n",
    "'''})"
   ]
  },
  {
   "cell_type": "code",
   "execution_count": 207,
   "id": "86968b65-b2de-4fb5-a3c8-1e21b3e715ba",
   "metadata": {},
   "outputs": [],
   "source": [
    "dataframe = pd.DataFrame(columns=['category', 'text', 'image_name'])\n",
    "\n",
    "cats = ['https://www.mrcoffee.com/coffee-makers/',\n",
    " 'https://www.mrcoffee.com/espresso-machines/',\n",
    " 'https://www.mrcoffee.com/specialty-brewers/']"
   ]
  },
  {
   "cell_type": "code",
   "execution_count": 208,
   "id": "50d132ca-562f-41df-8191-d175f18661e5",
   "metadata": {},
   "outputs": [
    {
     "name": "stdout",
     "output_type": "stream",
     "text": [
      "Mr. Coffee® 12-Cup Programmable Coffee Maker with 3 Ways to Brew System\n"
     ]
    },
    {
     "name": "stderr",
     "output_type": "stream",
     "text": [
      "C:\\Users\\ttkz\\AppData\\Local\\Temp\\ipykernel_19804\\3362770821.py:38: FutureWarning: The frame.append method is deprecated and will be removed from pandas in a future version. Use pandas.concat instead.\n",
      "  dataframe = dataframe.append({'category':category_name,\n",
      "C:\\Users\\ttkz\\AppData\\Local\\Temp\\ipykernel_19804\\3362770821.py:38: FutureWarning: The frame.append method is deprecated and will be removed from pandas in a future version. Use pandas.concat instead.\n",
      "  dataframe = dataframe.append({'category':category_name,\n",
      "C:\\Users\\ttkz\\AppData\\Local\\Temp\\ipykernel_19804\\3362770821.py:38: FutureWarning: The frame.append method is deprecated and will be removed from pandas in a future version. Use pandas.concat instead.\n",
      "  dataframe = dataframe.append({'category':category_name,\n"
     ]
    },
    {
     "name": "stdout",
     "output_type": "stream",
     "text": [
      "Mr. Coffee® Pod + 10-Cup Space-Saving Combo Brewer\n"
     ]
    },
    {
     "name": "stderr",
     "output_type": "stream",
     "text": [
      "C:\\Users\\ttkz\\AppData\\Local\\Temp\\ipykernel_19804\\3362770821.py:38: FutureWarning: The frame.append method is deprecated and will be removed from pandas in a future version. Use pandas.concat instead.\n",
      "  dataframe = dataframe.append({'category':category_name,\n",
      "C:\\Users\\ttkz\\AppData\\Local\\Temp\\ipykernel_19804\\3362770821.py:38: FutureWarning: The frame.append method is deprecated and will be removed from pandas in a future version. Use pandas.concat instead.\n",
      "  dataframe = dataframe.append({'category':category_name,\n",
      "C:\\Users\\ttkz\\AppData\\Local\\Temp\\ipykernel_19804\\3362770821.py:38: FutureWarning: The frame.append method is deprecated and will be removed from pandas in a future version. Use pandas.concat instead.\n",
      "  dataframe = dataframe.append({'category':category_name,\n"
     ]
    },
    {
     "name": "stdout",
     "output_type": "stream",
     "text": [
      "Mr. Coffee® 14-Cup Programmable Coffee Maker\n"
     ]
    },
    {
     "name": "stderr",
     "output_type": "stream",
     "text": [
      "C:\\Users\\ttkz\\AppData\\Local\\Temp\\ipykernel_19804\\3362770821.py:38: FutureWarning: The frame.append method is deprecated and will be removed from pandas in a future version. Use pandas.concat instead.\n",
      "  dataframe = dataframe.append({'category':category_name,\n",
      "C:\\Users\\ttkz\\AppData\\Local\\Temp\\ipykernel_19804\\3362770821.py:38: FutureWarning: The frame.append method is deprecated and will be removed from pandas in a future version. Use pandas.concat instead.\n",
      "  dataframe = dataframe.append({'category':category_name,\n",
      "C:\\Users\\ttkz\\AppData\\Local\\Temp\\ipykernel_19804\\3362770821.py:38: FutureWarning: The frame.append method is deprecated and will be removed from pandas in a future version. Use pandas.concat instead.\n",
      "  dataframe = dataframe.append({'category':category_name,\n"
     ]
    },
    {
     "name": "stdout",
     "output_type": "stream",
     "text": [
      "Mr. Coffee® Stainless Steel 10 Cup Programmable Coffee Maker\n"
     ]
    },
    {
     "name": "stderr",
     "output_type": "stream",
     "text": [
      "C:\\Users\\ttkz\\AppData\\Local\\Temp\\ipykernel_19804\\3362770821.py:38: FutureWarning: The frame.append method is deprecated and will be removed from pandas in a future version. Use pandas.concat instead.\n",
      "  dataframe = dataframe.append({'category':category_name,\n",
      "C:\\Users\\ttkz\\AppData\\Local\\Temp\\ipykernel_19804\\3362770821.py:38: FutureWarning: The frame.append method is deprecated and will be removed from pandas in a future version. Use pandas.concat instead.\n",
      "  dataframe = dataframe.append({'category':category_name,\n",
      "C:\\Users\\ttkz\\AppData\\Local\\Temp\\ipykernel_19804\\3362770821.py:38: FutureWarning: The frame.append method is deprecated and will be removed from pandas in a future version. Use pandas.concat instead.\n",
      "  dataframe = dataframe.append({'category':category_name,\n"
     ]
    },
    {
     "name": "stdout",
     "output_type": "stream",
     "text": [
      "Mr. Coffee® 4-in-1 Single-Serve Latte™, Iced, and Hot Coffee Maker\n"
     ]
    },
    {
     "name": "stderr",
     "output_type": "stream",
     "text": [
      "C:\\Users\\ttkz\\AppData\\Local\\Temp\\ipykernel_19804\\3362770821.py:38: FutureWarning: The frame.append method is deprecated and will be removed from pandas in a future version. Use pandas.concat instead.\n",
      "  dataframe = dataframe.append({'category':category_name,\n",
      "C:\\Users\\ttkz\\AppData\\Local\\Temp\\ipykernel_19804\\3362770821.py:38: FutureWarning: The frame.append method is deprecated and will be removed from pandas in a future version. Use pandas.concat instead.\n",
      "  dataframe = dataframe.append({'category':category_name,\n",
      "C:\\Users\\ttkz\\AppData\\Local\\Temp\\ipykernel_19804\\3362770821.py:38: FutureWarning: The frame.append method is deprecated and will be removed from pandas in a future version. Use pandas.concat instead.\n",
      "  dataframe = dataframe.append({'category':category_name,\n"
     ]
    },
    {
     "name": "stdout",
     "output_type": "stream",
     "text": [
      "Mr. Coffee® 12-Cup Programmable Coffee Maker with Automatic Cleaning Cycle\n"
     ]
    },
    {
     "name": "stderr",
     "output_type": "stream",
     "text": [
      "C:\\Users\\ttkz\\AppData\\Local\\Temp\\ipykernel_19804\\3362770821.py:38: FutureWarning: The frame.append method is deprecated and will be removed from pandas in a future version. Use pandas.concat instead.\n",
      "  dataframe = dataframe.append({'category':category_name,\n",
      "C:\\Users\\ttkz\\AppData\\Local\\Temp\\ipykernel_19804\\3362770821.py:38: FutureWarning: The frame.append method is deprecated and will be removed from pandas in a future version. Use pandas.concat instead.\n",
      "  dataframe = dataframe.append({'category':category_name,\n",
      "C:\\Users\\ttkz\\AppData\\Local\\Temp\\ipykernel_19804\\3362770821.py:38: FutureWarning: The frame.append method is deprecated and will be removed from pandas in a future version. Use pandas.concat instead.\n",
      "  dataframe = dataframe.append({'category':category_name,\n"
     ]
    },
    {
     "name": "stdout",
     "output_type": "stream",
     "text": [
      "Mr. Coffee® 12-Cup Programmable Coffeemaker with Strong Brew Selector\n"
     ]
    },
    {
     "name": "stderr",
     "output_type": "stream",
     "text": [
      "C:\\Users\\ttkz\\AppData\\Local\\Temp\\ipykernel_19804\\3362770821.py:38: FutureWarning: The frame.append method is deprecated and will be removed from pandas in a future version. Use pandas.concat instead.\n",
      "  dataframe = dataframe.append({'category':category_name,\n",
      "C:\\Users\\ttkz\\AppData\\Local\\Temp\\ipykernel_19804\\3362770821.py:38: FutureWarning: The frame.append method is deprecated and will be removed from pandas in a future version. Use pandas.concat instead.\n",
      "  dataframe = dataframe.append({'category':category_name,\n",
      "C:\\Users\\ttkz\\AppData\\Local\\Temp\\ipykernel_19804\\3362770821.py:38: FutureWarning: The frame.append method is deprecated and will be removed from pandas in a future version. Use pandas.concat instead.\n",
      "  dataframe = dataframe.append({'category':category_name,\n"
     ]
    },
    {
     "name": "stdout",
     "output_type": "stream",
     "text": [
      "Mr. Coffee® 12-Cup Programmable Coffeemaker, Brew Now or Later\n"
     ]
    },
    {
     "name": "stderr",
     "output_type": "stream",
     "text": [
      "C:\\Users\\ttkz\\AppData\\Local\\Temp\\ipykernel_19804\\3362770821.py:38: FutureWarning: The frame.append method is deprecated and will be removed from pandas in a future version. Use pandas.concat instead.\n",
      "  dataframe = dataframe.append({'category':category_name,\n",
      "C:\\Users\\ttkz\\AppData\\Local\\Temp\\ipykernel_19804\\3362770821.py:38: FutureWarning: The frame.append method is deprecated and will be removed from pandas in a future version. Use pandas.concat instead.\n",
      "  dataframe = dataframe.append({'category':category_name,\n",
      "C:\\Users\\ttkz\\AppData\\Local\\Temp\\ipykernel_19804\\3362770821.py:38: FutureWarning: The frame.append method is deprecated and will be removed from pandas in a future version. Use pandas.concat instead.\n",
      "  dataframe = dataframe.append({'category':category_name,\n"
     ]
    },
    {
     "name": "stdout",
     "output_type": "stream",
     "text": [
      "Mr. Coffee® 5-Cup Programmable Coffee Maker, 25 oz. Mini Brew, Brew Now or Later, with Water Filtration and Nylon Filter\n"
     ]
    },
    {
     "name": "stderr",
     "output_type": "stream",
     "text": [
      "C:\\Users\\ttkz\\AppData\\Local\\Temp\\ipykernel_19804\\3362770821.py:38: FutureWarning: The frame.append method is deprecated and will be removed from pandas in a future version. Use pandas.concat instead.\n",
      "  dataframe = dataframe.append({'category':category_name,\n",
      "C:\\Users\\ttkz\\AppData\\Local\\Temp\\ipykernel_19804\\3362770821.py:38: FutureWarning: The frame.append method is deprecated and will be removed from pandas in a future version. Use pandas.concat instead.\n",
      "  dataframe = dataframe.append({'category':category_name,\n",
      "C:\\Users\\ttkz\\AppData\\Local\\Temp\\ipykernel_19804\\3362770821.py:38: FutureWarning: The frame.append method is deprecated and will be removed from pandas in a future version. Use pandas.concat instead.\n",
      "  dataframe = dataframe.append({'category':category_name,\n"
     ]
    },
    {
     "name": "stdout",
     "output_type": "stream",
     "text": [
      "Mr. Coffee®12-Cup Programmable Coffeemaker with Rapid Brew System\n"
     ]
    },
    {
     "name": "stderr",
     "output_type": "stream",
     "text": [
      "C:\\Users\\ttkz\\AppData\\Local\\Temp\\ipykernel_19804\\3362770821.py:38: FutureWarning: The frame.append method is deprecated and will be removed from pandas in a future version. Use pandas.concat instead.\n",
      "  dataframe = dataframe.append({'category':category_name,\n",
      "C:\\Users\\ttkz\\AppData\\Local\\Temp\\ipykernel_19804\\3362770821.py:38: FutureWarning: The frame.append method is deprecated and will be removed from pandas in a future version. Use pandas.concat instead.\n",
      "  dataframe = dataframe.append({'category':category_name,\n",
      "C:\\Users\\ttkz\\AppData\\Local\\Temp\\ipykernel_19804\\3362770821.py:38: FutureWarning: The frame.append method is deprecated and will be removed from pandas in a future version. Use pandas.concat instead.\n",
      "  dataframe = dataframe.append({'category':category_name,\n"
     ]
    },
    {
     "name": "stdout",
     "output_type": "stream",
     "text": [
      "Mr. Coffee® 5-Cup Coffee Maker, 25 oz. Mini Brew\n"
     ]
    },
    {
     "name": "stderr",
     "output_type": "stream",
     "text": [
      "C:\\Users\\ttkz\\AppData\\Local\\Temp\\ipykernel_19804\\3362770821.py:38: FutureWarning: The frame.append method is deprecated and will be removed from pandas in a future version. Use pandas.concat instead.\n",
      "  dataframe = dataframe.append({'category':category_name,\n",
      "C:\\Users\\ttkz\\AppData\\Local\\Temp\\ipykernel_19804\\3362770821.py:38: FutureWarning: The frame.append method is deprecated and will be removed from pandas in a future version. Use pandas.concat instead.\n",
      "  dataframe = dataframe.append({'category':category_name,\n",
      "C:\\Users\\ttkz\\AppData\\Local\\Temp\\ipykernel_19804\\3362770821.py:38: FutureWarning: The frame.append method is deprecated and will be removed from pandas in a future version. Use pandas.concat instead.\n",
      "  dataframe = dataframe.append({'category':category_name,\n"
     ]
    },
    {
     "name": "stdout",
     "output_type": "stream",
     "text": [
      "Mr. Coffee® Iced™ Coffee Maker with Reusable Tumbler and Coffee Filter\n"
     ]
    },
    {
     "name": "stderr",
     "output_type": "stream",
     "text": [
      "C:\\Users\\ttkz\\AppData\\Local\\Temp\\ipykernel_19804\\3362770821.py:38: FutureWarning: The frame.append method is deprecated and will be removed from pandas in a future version. Use pandas.concat instead.\n",
      "  dataframe = dataframe.append({'category':category_name,\n",
      "C:\\Users\\ttkz\\AppData\\Local\\Temp\\ipykernel_19804\\3362770821.py:38: FutureWarning: The frame.append method is deprecated and will be removed from pandas in a future version. Use pandas.concat instead.\n",
      "  dataframe = dataframe.append({'category':category_name,\n",
      "C:\\Users\\ttkz\\AppData\\Local\\Temp\\ipykernel_19804\\3362770821.py:38: FutureWarning: The frame.append method is deprecated and will be removed from pandas in a future version. Use pandas.concat instead.\n",
      "  dataframe = dataframe.append({'category':category_name,\n"
     ]
    },
    {
     "name": "stdout",
     "output_type": "stream",
     "text": [
      "Mr. Coffee® Simple Brew 12-Cup Switch Coffee Maker\n"
     ]
    },
    {
     "name": "stderr",
     "output_type": "stream",
     "text": [
      "C:\\Users\\ttkz\\AppData\\Local\\Temp\\ipykernel_19804\\3362770821.py:38: FutureWarning: The frame.append method is deprecated and will be removed from pandas in a future version. Use pandas.concat instead.\n",
      "  dataframe = dataframe.append({'category':category_name,\n"
     ]
    },
    {
     "name": "stdout",
     "output_type": "stream",
     "text": [
      "Mr. Coffee® 12-Cup Coffeemaker\n"
     ]
    },
    {
     "name": "stderr",
     "output_type": "stream",
     "text": [
      "C:\\Users\\ttkz\\AppData\\Local\\Temp\\ipykernel_19804\\3362770821.py:38: FutureWarning: The frame.append method is deprecated and will be removed from pandas in a future version. Use pandas.concat instead.\n",
      "  dataframe = dataframe.append({'category':category_name,\n",
      "C:\\Users\\ttkz\\AppData\\Local\\Temp\\ipykernel_19804\\3362770821.py:38: FutureWarning: The frame.append method is deprecated and will be removed from pandas in a future version. Use pandas.concat instead.\n",
      "  dataframe = dataframe.append({'category':category_name,\n",
      "C:\\Users\\ttkz\\AppData\\Local\\Temp\\ipykernel_19804\\3362770821.py:38: FutureWarning: The frame.append method is deprecated and will be removed from pandas in a future version. Use pandas.concat instead.\n",
      "  dataframe = dataframe.append({'category':category_name,\n"
     ]
    },
    {
     "name": "stdout",
     "output_type": "stream",
     "text": [
      "Mr. Coffee® Optimal Brew™ 10-Cup Programmable Coffee Maker with Thermal Carafe\n"
     ]
    },
    {
     "name": "stderr",
     "output_type": "stream",
     "text": [
      "C:\\Users\\ttkz\\AppData\\Local\\Temp\\ipykernel_19804\\3362770821.py:38: FutureWarning: The frame.append method is deprecated and will be removed from pandas in a future version. Use pandas.concat instead.\n",
      "  dataframe = dataframe.append({'category':category_name,\n",
      "C:\\Users\\ttkz\\AppData\\Local\\Temp\\ipykernel_19804\\3362770821.py:38: FutureWarning: The frame.append method is deprecated and will be removed from pandas in a future version. Use pandas.concat instead.\n",
      "  dataframe = dataframe.append({'category':category_name,\n",
      "C:\\Users\\ttkz\\AppData\\Local\\Temp\\ipykernel_19804\\3362770821.py:38: FutureWarning: The frame.append method is deprecated and will be removed from pandas in a future version. Use pandas.concat instead.\n",
      "  dataframe = dataframe.append({'category':category_name,\n"
     ]
    },
    {
     "name": "stdout",
     "output_type": "stream",
     "text": [
      "Mr. Coffee® 12-Cup Programmable Coffee Maker with Strong Brew Selector\n"
     ]
    },
    {
     "name": "stderr",
     "output_type": "stream",
     "text": [
      "C:\\Users\\ttkz\\AppData\\Local\\Temp\\ipykernel_19804\\3362770821.py:38: FutureWarning: The frame.append method is deprecated and will be removed from pandas in a future version. Use pandas.concat instead.\n",
      "  dataframe = dataframe.append({'category':category_name,\n",
      "C:\\Users\\ttkz\\AppData\\Local\\Temp\\ipykernel_19804\\3362770821.py:38: FutureWarning: The frame.append method is deprecated and will be removed from pandas in a future version. Use pandas.concat instead.\n",
      "  dataframe = dataframe.append({'category':category_name,\n",
      "C:\\Users\\ttkz\\AppData\\Local\\Temp\\ipykernel_19804\\3362770821.py:38: FutureWarning: The frame.append method is deprecated and will be removed from pandas in a future version. Use pandas.concat instead.\n",
      "  dataframe = dataframe.append({'category':category_name,\n"
     ]
    },
    {
     "name": "stdout",
     "output_type": "stream",
     "text": [
      "Mr. Coffee Perfect Brew, Intelligent Coffee Maker, Cold Brew Maker & Tea Brewer\n"
     ]
    },
    {
     "name": "stderr",
     "output_type": "stream",
     "text": [
      "C:\\Users\\ttkz\\AppData\\Local\\Temp\\ipykernel_19804\\3362770821.py:38: FutureWarning: The frame.append method is deprecated and will be removed from pandas in a future version. Use pandas.concat instead.\n",
      "  dataframe = dataframe.append({'category':category_name,\n",
      "C:\\Users\\ttkz\\AppData\\Local\\Temp\\ipykernel_19804\\3362770821.py:38: FutureWarning: The frame.append method is deprecated and will be removed from pandas in a future version. Use pandas.concat instead.\n",
      "  dataframe = dataframe.append({'category':category_name,\n",
      "C:\\Users\\ttkz\\AppData\\Local\\Temp\\ipykernel_19804\\3362770821.py:38: FutureWarning: The frame.append method is deprecated and will be removed from pandas in a future version. Use pandas.concat instead.\n",
      "  dataframe = dataframe.append({'category':category_name,\n"
     ]
    },
    {
     "name": "stdout",
     "output_type": "stream",
     "text": [
      "Mr. Coffee®12-Cup Programmable Coffee Maker with Rapid Brew System\n"
     ]
    },
    {
     "name": "stderr",
     "output_type": "stream",
     "text": [
      "C:\\Users\\ttkz\\AppData\\Local\\Temp\\ipykernel_19804\\3362770821.py:38: FutureWarning: The frame.append method is deprecated and will be removed from pandas in a future version. Use pandas.concat instead.\n",
      "  dataframe = dataframe.append({'category':category_name,\n",
      "C:\\Users\\ttkz\\AppData\\Local\\Temp\\ipykernel_19804\\3362770821.py:38: FutureWarning: The frame.append method is deprecated and will be removed from pandas in a future version. Use pandas.concat instead.\n",
      "  dataframe = dataframe.append({'category':category_name,\n",
      "C:\\Users\\ttkz\\AppData\\Local\\Temp\\ipykernel_19804\\3362770821.py:38: FutureWarning: The frame.append method is deprecated and will be removed from pandas in a future version. Use pandas.concat instead.\n",
      "  dataframe = dataframe.append({'category':category_name,\n"
     ]
    },
    {
     "name": "stdout",
     "output_type": "stream",
     "text": [
      "Mr. Coffee One-Touch CoffeeHouse+ Espresso, Cappuccino, and Latte Maker, Grey\n"
     ]
    },
    {
     "name": "stderr",
     "output_type": "stream",
     "text": [
      "C:\\Users\\ttkz\\AppData\\Local\\Temp\\ipykernel_19804\\3362770821.py:38: FutureWarning: The frame.append method is deprecated and will be removed from pandas in a future version. Use pandas.concat instead.\n",
      "  dataframe = dataframe.append({'category':category_name,\n",
      "C:\\Users\\ttkz\\AppData\\Local\\Temp\\ipykernel_19804\\3362770821.py:38: FutureWarning: The frame.append method is deprecated and will be removed from pandas in a future version. Use pandas.concat instead.\n",
      "  dataframe = dataframe.append({'category':category_name,\n",
      "C:\\Users\\ttkz\\AppData\\Local\\Temp\\ipykernel_19804\\3362770821.py:38: FutureWarning: The frame.append method is deprecated and will be removed from pandas in a future version. Use pandas.concat instead.\n",
      "  dataframe = dataframe.append({'category':category_name,\n"
     ]
    },
    {
     "name": "stdout",
     "output_type": "stream",
     "text": [
      "Mr. Coffee Steam Espresso Maker with Stainless Steel Frothing Pitcher\n"
     ]
    },
    {
     "name": "stderr",
     "output_type": "stream",
     "text": [
      "C:\\Users\\ttkz\\AppData\\Local\\Temp\\ipykernel_19804\\3362770821.py:38: FutureWarning: The frame.append method is deprecated and will be removed from pandas in a future version. Use pandas.concat instead.\n",
      "  dataframe = dataframe.append({'category':category_name,\n",
      "C:\\Users\\ttkz\\AppData\\Local\\Temp\\ipykernel_19804\\3362770821.py:38: FutureWarning: The frame.append method is deprecated and will be removed from pandas in a future version. Use pandas.concat instead.\n",
      "  dataframe = dataframe.append({'category':category_name,\n",
      "C:\\Users\\ttkz\\AppData\\Local\\Temp\\ipykernel_19804\\3362770821.py:38: FutureWarning: The frame.append method is deprecated and will be removed from pandas in a future version. Use pandas.concat instead.\n",
      "  dataframe = dataframe.append({'category':category_name,\n"
     ]
    },
    {
     "name": "stdout",
     "output_type": "stream",
     "text": [
      "Mr. Coffee® One-Touch CoffeeHouse Espresso and Cappuccino Machine\n"
     ]
    },
    {
     "name": "stderr",
     "output_type": "stream",
     "text": [
      "C:\\Users\\ttkz\\AppData\\Local\\Temp\\ipykernel_19804\\3362770821.py:38: FutureWarning: The frame.append method is deprecated and will be removed from pandas in a future version. Use pandas.concat instead.\n",
      "  dataframe = dataframe.append({'category':category_name,\n",
      "C:\\Users\\ttkz\\AppData\\Local\\Temp\\ipykernel_19804\\3362770821.py:38: FutureWarning: The frame.append method is deprecated and will be removed from pandas in a future version. Use pandas.concat instead.\n",
      "  dataframe = dataframe.append({'category':category_name,\n",
      "C:\\Users\\ttkz\\AppData\\Local\\Temp\\ipykernel_19804\\3362770821.py:38: FutureWarning: The frame.append method is deprecated and will be removed from pandas in a future version. Use pandas.concat instead.\n",
      "  dataframe = dataframe.append({'category':category_name,\n"
     ]
    },
    {
     "name": "stdout",
     "output_type": "stream",
     "text": [
      "Mr. Coffee® Café 20-Ounce Steam Automatic Espresso and Cappuccino Machine, Black\n"
     ]
    },
    {
     "name": "stderr",
     "output_type": "stream",
     "text": [
      "C:\\Users\\ttkz\\AppData\\Local\\Temp\\ipykernel_19804\\3362770821.py:38: FutureWarning: The frame.append method is deprecated and will be removed from pandas in a future version. Use pandas.concat instead.\n",
      "  dataframe = dataframe.append({'category':category_name,\n",
      "C:\\Users\\ttkz\\AppData\\Local\\Temp\\ipykernel_19804\\3362770821.py:38: FutureWarning: The frame.append method is deprecated and will be removed from pandas in a future version. Use pandas.concat instead.\n",
      "  dataframe = dataframe.append({'category':category_name,\n",
      "C:\\Users\\ttkz\\AppData\\Local\\Temp\\ipykernel_19804\\3362770821.py:38: FutureWarning: The frame.append method is deprecated and will be removed from pandas in a future version. Use pandas.concat instead.\n",
      "  dataframe = dataframe.append({'category':category_name,\n"
     ]
    },
    {
     "name": "stdout",
     "output_type": "stream",
     "text": [
      "Mr. Coffee® Café Barista\n"
     ]
    },
    {
     "name": "stderr",
     "output_type": "stream",
     "text": [
      "C:\\Users\\ttkz\\AppData\\Local\\Temp\\ipykernel_19804\\3362770821.py:38: FutureWarning: The frame.append method is deprecated and will be removed from pandas in a future version. Use pandas.concat instead.\n",
      "  dataframe = dataframe.append({'category':category_name,\n",
      "C:\\Users\\ttkz\\AppData\\Local\\Temp\\ipykernel_19804\\3362770821.py:38: FutureWarning: The frame.append method is deprecated and will be removed from pandas in a future version. Use pandas.concat instead.\n",
      "  dataframe = dataframe.append({'category':category_name,\n",
      "C:\\Users\\ttkz\\AppData\\Local\\Temp\\ipykernel_19804\\3362770821.py:38: FutureWarning: The frame.append method is deprecated and will be removed from pandas in a future version. Use pandas.concat instead.\n",
      "  dataframe = dataframe.append({'category':category_name,\n"
     ]
    },
    {
     "name": "stdout",
     "output_type": "stream",
     "text": [
      "Mr. Coffee® 4-Shot Steam Espresso Machine, Cappuccino Maker, and Latte Maker with Glass Carafe\n"
     ]
    },
    {
     "name": "stderr",
     "output_type": "stream",
     "text": [
      "C:\\Users\\ttkz\\AppData\\Local\\Temp\\ipykernel_19804\\3362770821.py:38: FutureWarning: The frame.append method is deprecated and will be removed from pandas in a future version. Use pandas.concat instead.\n",
      "  dataframe = dataframe.append({'category':category_name,\n",
      "C:\\Users\\ttkz\\AppData\\Local\\Temp\\ipykernel_19804\\3362770821.py:38: FutureWarning: The frame.append method is deprecated and will be removed from pandas in a future version. Use pandas.concat instead.\n",
      "  dataframe = dataframe.append({'category':category_name,\n",
      "C:\\Users\\ttkz\\AppData\\Local\\Temp\\ipykernel_19804\\3362770821.py:38: FutureWarning: The frame.append method is deprecated and will be removed from pandas in a future version. Use pandas.concat instead.\n",
      "  dataframe = dataframe.append({'category':category_name,\n"
     ]
    },
    {
     "name": "stdout",
     "output_type": "stream",
     "text": [
      "Mr. Coffee® 4-Shot Steam Espresso, Cappuccino, and Latte Maker with Stainless Steel Frothing Pitcher\n"
     ]
    },
    {
     "name": "stderr",
     "output_type": "stream",
     "text": [
      "C:\\Users\\ttkz\\AppData\\Local\\Temp\\ipykernel_19804\\3362770821.py:38: FutureWarning: The frame.append method is deprecated and will be removed from pandas in a future version. Use pandas.concat instead.\n",
      "  dataframe = dataframe.append({'category':category_name,\n",
      "C:\\Users\\ttkz\\AppData\\Local\\Temp\\ipykernel_19804\\3362770821.py:38: FutureWarning: The frame.append method is deprecated and will be removed from pandas in a future version. Use pandas.concat instead.\n",
      "  dataframe = dataframe.append({'category':category_name,\n",
      "C:\\Users\\ttkz\\AppData\\Local\\Temp\\ipykernel_19804\\3362770821.py:38: FutureWarning: The frame.append method is deprecated and will be removed from pandas in a future version. Use pandas.concat instead.\n",
      "  dataframe = dataframe.append({'category':category_name,\n"
     ]
    },
    {
     "name": "stdout",
     "output_type": "stream",
     "text": [
      "Mr. Coffee® Prima Latte Luxe\n"
     ]
    },
    {
     "name": "stderr",
     "output_type": "stream",
     "text": [
      "C:\\Users\\ttkz\\AppData\\Local\\Temp\\ipykernel_19804\\3362770821.py:38: FutureWarning: The frame.append method is deprecated and will be removed from pandas in a future version. Use pandas.concat instead.\n",
      "  dataframe = dataframe.append({'category':category_name,\n",
      "C:\\Users\\ttkz\\AppData\\Local\\Temp\\ipykernel_19804\\3362770821.py:38: FutureWarning: The frame.append method is deprecated and will be removed from pandas in a future version. Use pandas.concat instead.\n",
      "  dataframe = dataframe.append({'category':category_name,\n",
      "C:\\Users\\ttkz\\AppData\\Local\\Temp\\ipykernel_19804\\3362770821.py:38: FutureWarning: The frame.append method is deprecated and will be removed from pandas in a future version. Use pandas.concat instead.\n",
      "  dataframe = dataframe.append({'category':category_name,\n"
     ]
    },
    {
     "name": "stdout",
     "output_type": "stream",
     "text": [
      "Mr. Coffee® 4-in-1 Single-Serve Latte™, Iced, and Hot Coffee Maker\n"
     ]
    },
    {
     "name": "stderr",
     "output_type": "stream",
     "text": [
      "C:\\Users\\ttkz\\AppData\\Local\\Temp\\ipykernel_19804\\3362770821.py:38: FutureWarning: The frame.append method is deprecated and will be removed from pandas in a future version. Use pandas.concat instead.\n",
      "  dataframe = dataframe.append({'category':category_name,\n",
      "C:\\Users\\ttkz\\AppData\\Local\\Temp\\ipykernel_19804\\3362770821.py:38: FutureWarning: The frame.append method is deprecated and will be removed from pandas in a future version. Use pandas.concat instead.\n",
      "  dataframe = dataframe.append({'category':category_name,\n",
      "C:\\Users\\ttkz\\AppData\\Local\\Temp\\ipykernel_19804\\3362770821.py:38: FutureWarning: The frame.append method is deprecated and will be removed from pandas in a future version. Use pandas.concat instead.\n",
      "  dataframe = dataframe.append({'category':category_name,\n"
     ]
    },
    {
     "name": "stdout",
     "output_type": "stream",
     "text": [
      "Mr. Coffee® Single-Serve Iced™ and Hot Coffee Maker\n"
     ]
    },
    {
     "name": "stderr",
     "output_type": "stream",
     "text": [
      "C:\\Users\\ttkz\\AppData\\Local\\Temp\\ipykernel_19804\\3362770821.py:38: FutureWarning: The frame.append method is deprecated and will be removed from pandas in a future version. Use pandas.concat instead.\n",
      "  dataframe = dataframe.append({'category':category_name,\n",
      "C:\\Users\\ttkz\\AppData\\Local\\Temp\\ipykernel_19804\\3362770821.py:38: FutureWarning: The frame.append method is deprecated and will be removed from pandas in a future version. Use pandas.concat instead.\n",
      "  dataframe = dataframe.append({'category':category_name,\n",
      "C:\\Users\\ttkz\\AppData\\Local\\Temp\\ipykernel_19804\\3362770821.py:38: FutureWarning: The frame.append method is deprecated and will be removed from pandas in a future version. Use pandas.concat instead.\n",
      "  dataframe = dataframe.append({'category':category_name,\n"
     ]
    },
    {
     "name": "stdout",
     "output_type": "stream",
     "text": [
      "Mr. Coffee® Single-Serve Frappe™, Iced, and Hot Coffee Maker and Blender\n"
     ]
    },
    {
     "name": "stderr",
     "output_type": "stream",
     "text": [
      "C:\\Users\\ttkz\\AppData\\Local\\Temp\\ipykernel_19804\\3362770821.py:38: FutureWarning: The frame.append method is deprecated and will be removed from pandas in a future version. Use pandas.concat instead.\n",
      "  dataframe = dataframe.append({'category':category_name,\n",
      "C:\\Users\\ttkz\\AppData\\Local\\Temp\\ipykernel_19804\\3362770821.py:38: FutureWarning: The frame.append method is deprecated and will be removed from pandas in a future version. Use pandas.concat instead.\n",
      "  dataframe = dataframe.append({'category':category_name,\n",
      "C:\\Users\\ttkz\\AppData\\Local\\Temp\\ipykernel_19804\\3362770821.py:38: FutureWarning: The frame.append method is deprecated and will be removed from pandas in a future version. Use pandas.concat instead.\n",
      "  dataframe = dataframe.append({'category':category_name,\n"
     ]
    },
    {
     "name": "stdout",
     "output_type": "stream",
     "text": [
      "Mr. Coffee® Iced™ Coffee Maker with Reusable Tumbler and Coffee Filter\n"
     ]
    },
    {
     "name": "stderr",
     "output_type": "stream",
     "text": [
      "C:\\Users\\ttkz\\AppData\\Local\\Temp\\ipykernel_19804\\3362770821.py:38: FutureWarning: The frame.append method is deprecated and will be removed from pandas in a future version. Use pandas.concat instead.\n",
      "  dataframe = dataframe.append({'category':category_name,\n",
      "C:\\Users\\ttkz\\AppData\\Local\\Temp\\ipykernel_19804\\3362770821.py:38: FutureWarning: The frame.append method is deprecated and will be removed from pandas in a future version. Use pandas.concat instead.\n",
      "  dataframe = dataframe.append({'category':category_name,\n",
      "C:\\Users\\ttkz\\AppData\\Local\\Temp\\ipykernel_19804\\3362770821.py:38: FutureWarning: The frame.append method is deprecated and will be removed from pandas in a future version. Use pandas.concat instead.\n",
      "  dataframe = dataframe.append({'category':category_name,\n"
     ]
    },
    {
     "name": "stdout",
     "output_type": "stream",
     "text": [
      "Iced Tea Maker, 2-Qt., Blue\n"
     ]
    },
    {
     "name": "stderr",
     "output_type": "stream",
     "text": [
      "C:\\Users\\ttkz\\AppData\\Local\\Temp\\ipykernel_19804\\3362770821.py:38: FutureWarning: The frame.append method is deprecated and will be removed from pandas in a future version. Use pandas.concat instead.\n",
      "  dataframe = dataframe.append({'category':category_name,\n",
      "C:\\Users\\ttkz\\AppData\\Local\\Temp\\ipykernel_19804\\3362770821.py:38: FutureWarning: The frame.append method is deprecated and will be removed from pandas in a future version. Use pandas.concat instead.\n",
      "  dataframe = dataframe.append({'category':category_name,\n",
      "C:\\Users\\ttkz\\AppData\\Local\\Temp\\ipykernel_19804\\3362770821.py:38: FutureWarning: The frame.append method is deprecated and will be removed from pandas in a future version. Use pandas.concat instead.\n",
      "  dataframe = dataframe.append({'category':category_name,\n"
     ]
    }
   ],
   "source": [
    "for cat_index, category in enumerate(cats):\n",
    "    \n",
    "    driver.get(category)\n",
    "    \n",
    "    category_name = driver.find_element(By.CLASS_NAME, 'plp-title').text\n",
    "\n",
    "    # Find links to goods \n",
    "    links_to_items = driver.find_elements(By.CLASS_NAME, \"product-tile-link\")\n",
    "\n",
    "    list_links = [link.get_attribute('href') for link in links_to_items]\n",
    "    \n",
    "    \n",
    "    for good_index, url in enumerate(list_links):\n",
    "        \n",
    "        driver.get(url)\n",
    "        \n",
    "        product_name = driver.find_element(By.TAG_NAME, \"h1\").text\n",
    "\n",
    "        print(product_name)\n",
    "\n",
    "        divs = driver.find_elements(By.CLASS_NAME, \"lg-image\")\n",
    "\n",
    "        src_sets = [x.get_attribute(\"srcset\") for x in divs]\n",
    "\n",
    "        image_urls = [url.strip().split(' ')[0][:-27] for url in src_sets]\n",
    "        \n",
    "        \n",
    "        for img_index, image_url in enumerate(image_urls):\n",
    "            \n",
    "            image_path = \"./images/\" + \"mrcoffee_0000\" + str(cat_index) + str(good_index) + str(img_index) + \".jpg\"\n",
    "\n",
    "            # Download image and save to folder\n",
    "            response = requests.get(image_url)\n",
    "            \n",
    "            with open(image_path, \"wb\") as file:\n",
    "                file.write(response.content)            \n",
    "             \n",
    "            dataframe = dataframe.append({'category':category_name, \n",
    "                                          'text':product_name, \n",
    "                                          'image_name':image_name}, ignore_index=True)\n",
    "   \n",
    "        time.sleep(2)    "
   ]
  },
  {
   "cell_type": "code",
   "execution_count": 209,
   "id": "93f77cc0-dec6-4502-9030-40c004d3b0aa",
   "metadata": {},
   "outputs": [],
   "source": [
    "dataframe.to_csv(\"mr_coffee.csv\", index=False)"
   ]
  },
  {
   "cell_type": "code",
   "execution_count": null,
   "id": "348e4736-3874-4043-b111-25f5c1ac819e",
   "metadata": {},
   "outputs": [],
   "source": [
    "link = driver.find_element(By.XPATH, '//a[@href=\"/coffee-makers/10-cup-coffee-makers/mr.-coffee-12-cup-programmable-coffee-maker-with-3-ways-to-brew-system/SAP_2182808.html\"]')\n",
    "link.click()"
   ]
  },
  {
   "cell_type": "code",
   "execution_count": 179,
   "id": "55bf88a5-5552-4b3b-a57e-9c6da78f4458",
   "metadata": {},
   "outputs": [
    {
     "name": "stdout",
     "output_type": "stream",
     "text": [
      "Mr. Coffee® 12-Cup Programmable Coffee Maker with 3 Ways to Brew System\n"
     ]
    },
    {
     "data": {
      "text/plain": [
       "['https://newellbrands.imgix.net/c425a261-7638-3fdc-8b15-aacd2914ec79/c425a261-7638-3fdc-8b15-aacd2914ec79.jpg',\n",
       " 'https://newellbrands.imgix.net/22cbad7a-4e2c-3b52-b629-7e32ad937f14/22cbad7a-4e2c-3b52-b629-7e32ad937f14.jpg',\n",
       " 'https://newellbrands.imgix.net/c5b65bb4-3b74-333a-bda6-b0f168341814/c5b65bb4-3b74-333a-bda6-b0f168341814.jpg',\n",
       " 'https://newellbrands.imgix.net/d5729781-4056-3405-acb1-c136daafff90/d5729781-4056-3405-acb1-c136daafff90.jpg',\n",
       " 'https://newellbrands.imgix.net/ae2d9545-7f09-36fd-8d08-c7e296582be1/ae2d9545-7f09-36fd-8d08-c7e296582be1.jpg']"
      ]
     },
     "execution_count": 179,
     "metadata": {},
     "output_type": "execute_result"
    }
   ],
   "source": [
    "product_name = driver.find_element(By.TAG_NAME, \"h1\").text\n",
    "\n",
    "print(product_name)\n",
    "\n",
    "divs = driver.find_elements(By.CLASS_NAME, \"lg-image\")\n",
    "\n",
    "src_sets = [x.get_attribute(\"srcset\") for x in divs]\n",
    "\n",
    "image_urls = [url.strip().split(' ')[0][:-27] for url in src_sets]\n",
    "image_urls"
   ]
  },
  {
   "cell_type": "code",
   "execution_count": 188,
   "id": "63b81038-650d-4d26-b7f5-c7280165508d",
   "metadata": {},
   "outputs": [
    {
     "data": {
      "text/html": [
       "<div>\n",
       "<style scoped>\n",
       "    .dataframe tbody tr th:only-of-type {\n",
       "        vertical-align: middle;\n",
       "    }\n",
       "\n",
       "    .dataframe tbody tr th {\n",
       "        vertical-align: top;\n",
       "    }\n",
       "\n",
       "    .dataframe thead th {\n",
       "        text-align: right;\n",
       "    }\n",
       "</style>\n",
       "<table border=\"1\" class=\"dataframe\">\n",
       "  <thead>\n",
       "    <tr style=\"text-align: right;\">\n",
       "      <th></th>\n",
       "      <th>category</th>\n",
       "      <th>text</th>\n",
       "      <th>image_name</th>\n",
       "    </tr>\n",
       "  </thead>\n",
       "  <tbody>\n",
       "    <tr>\n",
       "      <th>0</th>\n",
       "      <td>&lt;selenium.webdriver.remote.webelement.WebEleme...</td>\n",
       "      <td>Mr. Coffee® 12-Cup Programmable Coffee Maker w...</td>\n",
       "      <td>mrcoffee_00000.jpg</td>\n",
       "    </tr>\n",
       "    <tr>\n",
       "      <th>1</th>\n",
       "      <td>&lt;selenium.webdriver.remote.webelement.WebEleme...</td>\n",
       "      <td>Mr. Coffee One-Touch CoffeeHouse+ Espresso, Ca...</td>\n",
       "      <td>mrcoffee_00000.jpg</td>\n",
       "    </tr>\n",
       "    <tr>\n",
       "      <th>2</th>\n",
       "      <td>&lt;selenium.webdriver.remote.webelement.WebEleme...</td>\n",
       "      <td>Mr. Coffee® 4-in-1 Single-Serve Latte™, Iced, ...</td>\n",
       "      <td>mrcoffee_00000.jpg</td>\n",
       "    </tr>\n",
       "  </tbody>\n",
       "</table>\n",
       "</div>"
      ],
      "text/plain": [
       "                                            category  \\\n",
       "0  <selenium.webdriver.remote.webelement.WebEleme...   \n",
       "1  <selenium.webdriver.remote.webelement.WebEleme...   \n",
       "2  <selenium.webdriver.remote.webelement.WebEleme...   \n",
       "\n",
       "                                                text          image_name  \n",
       "0  Mr. Coffee® 12-Cup Programmable Coffee Maker w...  mrcoffee_00000.jpg  \n",
       "1  Mr. Coffee One-Touch CoffeeHouse+ Espresso, Ca...  mrcoffee_00000.jpg  \n",
       "2  Mr. Coffee® 4-in-1 Single-Serve Latte™, Iced, ...  mrcoffee_00000.jpg  "
      ]
     },
     "execution_count": 188,
     "metadata": {},
     "output_type": "execute_result"
    }
   ],
   "source": [
    "dataframe"
   ]
  },
  {
   "cell_type": "code",
   "execution_count": null,
   "id": "b9a48a10-94da-4556-8c89-f186c2c6bcb0",
   "metadata": {},
   "outputs": [],
   "source": []
  }
 ],
 "metadata": {
  "kernelspec": {
   "display_name": "Python 3 (ipykernel)",
   "language": "python",
   "name": "python3"
  },
  "language_info": {
   "codemirror_mode": {
    "name": "ipython",
    "version": 3
   },
   "file_extension": ".py",
   "mimetype": "text/x-python",
   "name": "python",
   "nbconvert_exporter": "python",
   "pygments_lexer": "ipython3",
   "version": "3.10.9"
  }
 },
 "nbformat": 4,
 "nbformat_minor": 5
}
